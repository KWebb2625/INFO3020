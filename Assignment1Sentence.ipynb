{
  "nbformat": 4,
  "nbformat_minor": 0,
  "metadata": {
    "colab": {
      "name": "Assignment1Sentence.ipynb",
      "provenance": [],
      "authorship_tag": "ABX9TyP+U8OdInOseWuMGIATa9R6",
      "include_colab_link": true
    },
    "kernelspec": {
      "name": "python3",
      "display_name": "Python 3"
    }
  },
  "cells": [
    {
      "cell_type": "markdown",
      "metadata": {
        "id": "view-in-github",
        "colab_type": "text"
      },
      "source": [
        "<a href=\"https://colab.research.google.com/github/KWebb2625/Kathryn_INFO3020_Spring2020/blob/master/Assignment1Sentence.ipynb\" target=\"_parent\"><img src=\"https://colab.research.google.com/assets/colab-badge.svg\" alt=\"Open In Colab\"/></a>"
      ]
    },
    {
      "cell_type": "code",
      "metadata": {
        "id": "BQ6Gh-7OoLGC",
        "colab_type": "code",
        "colab": {
          "base_uri": "https://localhost:8080/",
          "height": 35
        },
        "outputId": "be629bc9-06d4-4a47-da54-a7452528eb8d"
      },
      "source": [
        "word1 = \"All\"\n",
        "word2 = \"work\"\n",
        "word3 = \"and\"\n",
        "word4 = \"no\"\n",
        "word5 = \"play\"\n",
        "word6 = \"makes\"\n",
        "word7 = \"Jack\"\n",
        "word8 = \"a\"\n",
        "word9 = \"dull\"\n",
        "word10 = \"boy.\"\n",
        "\n",
        "print (word1, word2, word3, word4, word5, word6, word7, word8, word9, word10)"
      ],
      "execution_count": 8,
      "outputs": [
        {
          "output_type": "stream",
          "text": [
            "All work and no play makes Jack a dull boy.\n"
          ],
          "name": "stdout"
        }
      ]
    }
  ]
}