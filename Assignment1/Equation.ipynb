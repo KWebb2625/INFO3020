{
  "nbformat": 4,
  "nbformat_minor": 0,
  "metadata": {
    "colab": {
      "name": "Assignment1Equation.ipynb",
      "provenance": [],
      "authorship_tag": "ABX9TyOiuTkjOuvp4c9U1HEqGL1I",
      "include_colab_link": true
    },
    "kernelspec": {
      "name": "python3",
      "display_name": "Python 3"
    }
  },
  "cells": [
    {
      "cell_type": "markdown",
      "metadata": {
        "id": "view-in-github",
        "colab_type": "text"
      },
      "source": [
        "<a href=\"https://colab.research.google.com/github/KWebb2625/Kathryn_INFO3020_Spring2020/blob/master/Assignment1Equation.ipynb\" target=\"_parent\"><img src=\"https://colab.research.google.com/assets/colab-badge.svg\" alt=\"Open In Colab\"/></a>"
      ]
    },
    {
      "cell_type": "code",
      "metadata": {
        "id": "BQ6Gh-7OoLGC",
        "colab_type": "code",
        "outputId": "ccc318e4-d781-41cd-e2e5-b476003b53ea",
        "colab": {
          "base_uri": "https://localhost:8080/",
          "height": 72
        }
      },
      "source": [
        "#Kathryn Webb\n",
        "#1/27/2020\n",
        "#Write a program that accepts two parameters and calculate the output of S\n",
        "# S = 3.14*(1+ a/b)^3\n",
        "\n",
        "a = float(input(\"A: \"))\n",
        "b = float(input(\"B: \"))\n",
        "S = 3.14*(1 +((a/b)**3)) \n",
        "print(\"S = \", S)"
      ],
      "execution_count": 0,
      "outputs": [
        {
          "output_type": "stream",
          "text": [
            "A: 50\n",
            "B: 14\n",
            "S =  146.17935860058313\n"
          ],
          "name": "stdout"
        }
      ]
    }
  ]
}
