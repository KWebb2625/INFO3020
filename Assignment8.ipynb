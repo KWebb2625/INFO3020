{
  "nbformat": 4,
  "nbformat_minor": 0,
  "metadata": {
    "colab": {
      "name": "Assignment8.ipynb",
      "provenance": [],
      "collapsed_sections": [],
      "authorship_tag": "ABX9TyNXn6R5MoCpFbwl9D5IueES",
      "include_colab_link": true
    },
    "kernelspec": {
      "name": "python3",
      "display_name": "Python 3"
    }
  },
  "cells": [
    {
      "cell_type": "markdown",
      "metadata": {
        "id": "view-in-github",
        "colab_type": "text"
      },
      "source": [
        "<a href=\"https://colab.research.google.com/github/KWebb2625/Kathryn_INFO3020_Spring2020/blob/master/Assignment8.ipynb\" target=\"_parent\"><img src=\"https://colab.research.google.com/assets/colab-badge.svg\" alt=\"Open In Colab\"/></a>"
      ]
    },
    {
      "cell_type": "code",
      "metadata": {
        "id": "-IlRjG4_dE2X",
        "colab_type": "code",
        "colab": {
          "base_uri": "https://localhost:8080/",
          "height": 35
        },
        "outputId": "4ebf20f6-083c-476e-9ba8-ad737311fbe7"
      },
      "source": [
        "# Kathryn Webb\n",
        "# 1: Rewrite the distance function from the chapter 4\n",
        "# titled Fruitful functions so that it takes two Points as\n",
        "# parameters instead of four numbers\n",
        "\n",
        "import math\n",
        "\n",
        "class Point:\n",
        "  def __init__(self,x=0,y=0):\n",
        "    self.x=x\n",
        "    self.y=y\n",
        "\n",
        "  def distance_from_origin(self):\n",
        "    return (self.x**2+self.y**2)**0.5\n",
        "\n",
        "  def __str__(self):\n",
        "    #return \"You can't print me!\"\n",
        "    return \"({0},{1})\".format(self.x,self.y)\n",
        "\n",
        "  def halfway(self,target):\n",
        "    mx=(self.x+target.x)/2\n",
        "    my=(self.y+target.y)/2\n",
        "    return Point(mx,my)\n",
        "\n",
        "def distance(x1,y1,x2,y2):\n",
        "    deltaX = x2 - x1\n",
        "    deltaY = y2 - y1\n",
        "    return math.sqrt(deltaX**2 + deltaY**2)\n",
        "\n",
        "point1 = Point(67,90)\n",
        "point2 = Point(34,28)\n",
        "\n",
        "print(distance(point1.x,point1.y,point2.x,point2.y))\n",
        "    "
      ],
      "execution_count": 13,
      "outputs": [
        {
          "output_type": "stream",
          "text": [
            "70.2353187506115\n"
          ],
          "name": "stdout"
        }
      ]
    },
    {
      "cell_type": "code",
      "metadata": {
        "colab_type": "code",
        "id": "RtLnR1_OdP8o",
        "colab": {
          "base_uri": "https://localhost:8080/",
          "height": 53
        },
        "outputId": "e7ff5676-da16-4930-f4be-a9cbd85d7cd6"
      },
      "source": [
        "# Kathryn Webb\n",
        "# 2: Add a method reflect_x to Point which returns a new Point,\n",
        "# one which is the reflection of the point about the x-axis. \n",
        "\n",
        "class Point:\n",
        "  def __init__(self,x=0,y=0):\n",
        "    self.x=x\n",
        "    self.y=y\n",
        "\n",
        "  def distance_from_origin(self):\n",
        "    return (self.x**2+self.y**2)**0.5\n",
        "\n",
        "  def __str__(self):\n",
        "    #return \"You can't print me!\"\n",
        "    return \"({0},{1})\".format(self.x,self.y)\n",
        "\n",
        "  def halfway(self,target):\n",
        "    mx=(self.x+target.x)/2\n",
        "    my=(self.y+target.y)/2\n",
        "    return Point(mx,my)\n",
        "\n",
        "  def reflect_x(self):\n",
        "    return Point(self.x*-1,self.y)\n",
        "\n",
        "point = Point(4,8)\n",
        "newpoint = point.reflect_x()\n",
        "\n",
        "print(point)\n",
        "print(newpoint)"
      ],
      "execution_count": 11,
      "outputs": [
        {
          "output_type": "stream",
          "text": [
            "(4,8)\n",
            "(-4,8)\n"
          ],
          "name": "stdout"
        }
      ]
    },
    {
      "cell_type": "code",
      "metadata": {
        "id": "DI-eSFq0dLbu",
        "colab_type": "code",
        "colab": {
          "base_uri": "https://localhost:8080/",
          "height": 35
        },
        "outputId": "4080b071-d367-4f9c-dce4-9ee819e35be6"
      },
      "source": [
        "# Kathryn Webb\n",
        "# 3: Add a method area to the Rectangle class that returns \n",
        "# the area of any instance\n",
        "\n",
        "class Point:\n",
        "  def __init__(self,x=0,y=0):\n",
        "    self.x=x\n",
        "    self.y=y\n",
        "\n",
        "  def distance_from_origin(self):\n",
        "    return (self.x**2+self.y**2)**0.5\n",
        "\n",
        "  def __str__(self):\n",
        "    #return \"You can't print me!\"\n",
        "    return \"({0},{1})\".format(self.x,self.y)\n",
        "\n",
        "  def halfway(self,target):\n",
        "    mx=(self.x+target.x)/2\n",
        "    my=(self.y+target.y)/2\n",
        "    return Point(mx,my)\n",
        "\n",
        "  def reflect_x(self):\n",
        "    return Point(self.x*-1,self.y)\n",
        "\n",
        "    \n",
        "class Rectangle:\n",
        "    def __init__(self, posn, w, h):\n",
        "        self.corner = posn\n",
        "        self.width = w\n",
        "        self.height = h\n",
        "\n",
        "    def __str__(self):\n",
        "        return \"({0},{1},{2})\".format(self.corner, self.width, self.height)\n",
        "\n",
        "    def grow(self,delta_width,delta_heigh):\n",
        "        self.width+=delta_width\n",
        "        self.height+=delta_heigh\n",
        "\n",
        "    def move(self,dx,dy):\n",
        "        self.corner.x+=dx\n",
        "        self.corner.y+=dy\n",
        "\n",
        "    def area(self):\n",
        "        return self.width * self.height\n",
        "        \n",
        "rectangle = Rectangle(10,5,8)\n",
        "\n",
        "area = rectangle.area()\n",
        "print(area)\n"
      ],
      "execution_count": 8,
      "outputs": [
        {
          "output_type": "stream",
          "text": [
            "40\n"
          ],
          "name": "stdout"
        }
      ]
    },
    {
      "cell_type": "code",
      "metadata": {
        "colab_type": "code",
        "id": "Tx-83ngJdNbW",
        "colab": {
          "base_uri": "https://localhost:8080/",
          "height": 53
        },
        "outputId": "88b1af45-aae5-4252-f12e-3f6bd387c138"
      },
      "source": [
        "# Kathryn Webb\n",
        "# 4: Write a flilp method in the Rectangle class that swaps\n",
        "# the width and height of any rectancle instance\n",
        "\n",
        "class Point:\n",
        "  def __init__(self,x=0,y=0):\n",
        "    self.x=x\n",
        "    self.y=y\n",
        "\n",
        "  def distance_from_origin(self):\n",
        "    return (self.x**2+self.y**2)**0.5\n",
        "\n",
        "  def __str__(self):\n",
        "    #return \"You can't print me!\"\n",
        "    return \"({0},{1})\".format(self.x,self.y)\n",
        "\n",
        "  def halfway(self,target):\n",
        "    mx=(self.x+target.x)/2\n",
        "    my=(self.y+target.y)/2\n",
        "    return Point(mx,my)\n",
        "\n",
        "  def reflect_x(self):\n",
        "    return Point(self.x*-1,self.y)\n",
        "\n",
        "\n",
        "class Rectangle:\n",
        "    def __init__(self, posn, w, h):\n",
        "        self.corner = posn\n",
        "        self.width = w\n",
        "        self.height = h\n",
        "\n",
        "    def __str__(self):\n",
        "        return \"({0},{1},{2})\".format(self.corner, self.width, self.height)\n",
        "\n",
        "    def grow(self,delta_width,delta_heigh):\n",
        "        self.width+=delta_width\n",
        "        self.height+=delta_heigh\n",
        "\n",
        "    def move(self,dx,dy):\n",
        "        self.corner.x+=dx\n",
        "        self.corner.y+=dy\n",
        "\n",
        "    def area(self):\n",
        "        return self.width * self.height\n",
        "    \n",
        "    def swap(self):\n",
        "        self.width,self.height = self.height,self.width\n",
        "        \n",
        "rectangle = Rectangle(Point(10,10),5,8)\n",
        "print(rectangle)\n",
        "rectangle.swap()\n",
        "print(rectangle)\n"
      ],
      "execution_count": 32,
      "outputs": [
        {
          "output_type": "stream",
          "text": [
            "((10,10),5,8)\n",
            "((10,10),8,5)\n"
          ],
          "name": "stdout"
        }
      ]
    },
    {
      "cell_type": "code",
      "metadata": {
        "id": "aMy9X0M6eBrI",
        "colab_type": "code",
        "colab": {
          "base_uri": "https://localhost:8080/",
          "height": 90
        },
        "outputId": "8bff678f-e5e0-4d7a-ee2a-333c49389b12"
      },
      "source": [
        "# Kathryn Webb\n",
        "# 5: Write a new method in the Rectangle class to test if a Point\n",
        "# falls within the rectangle. For this exercise, assume that a \n",
        "# rectangle at (0,0) with width 10 and height 5 has open upper \n",
        "# bounds on the width and height, i.e. it stretches in the x \n",
        "# direction from [0 to 10), where 0 is included but 10 is excluded,\n",
        "# and from [0 to 5) in the y direction. So it does not contain the\n",
        "# point (10, 2). \n",
        "\n",
        "class Point:\n",
        "  def __init__(self,x=0,y=0):\n",
        "    self.x=x\n",
        "    self.y=y\n",
        "\n",
        "  def distance_from_origin(self):\n",
        "    return (self.x**2+self.y**2)**0.5\n",
        "\n",
        "  def __str__(self):\n",
        "    #return \"You can't print me!\"\n",
        "    return \"({0},{1})\".format(self.x,self.y)\n",
        "\n",
        "  def halfway(self,target):\n",
        "    mx=(self.x+target.x)/2\n",
        "    my=(self.y+target.y)/2\n",
        "    return Point(mx,my)\n",
        "\n",
        "  def reflect_x(self):\n",
        "    return Point(self.x*-1,self.y)\n",
        "\n",
        "\n",
        "class Rectangle:\n",
        "    def __init__(self, posn, w, h):\n",
        "        self.corner = posn\n",
        "        self.width = w\n",
        "        self.height = h\n",
        "\n",
        "    def __str__(self):\n",
        "        return \"({0},{1},{2})\".format(self.corner, self.width, self.height)\n",
        "\n",
        "    def grow(self,delta_width,delta_heigh):\n",
        "        self.width+=delta_width\n",
        "        self.height+=delta_heigh\n",
        "\n",
        "    def move(self,dx,dy):\n",
        "        self.corner.x+=dx\n",
        "        self.corner.y+=dy\n",
        "\n",
        "    def area(self):\n",
        "        return self.width * self.height\n",
        "    \n",
        "    def swap(self):\n",
        "        self.width,self.height = self.height,self.width\n",
        "\n",
        "def in_range(corner,width,height,x,y):\n",
        "        xrange = []\n",
        "        yrange = []\n",
        "        for elem in range (corner.x, (corner.x + width)):\n",
        "          xrange.append(elem)\n",
        "        for elem in range (corner.y, (corner.y + height)):\n",
        "          yrange.append(elem)\n",
        "        #print(xrange)\n",
        "        #print(yrange)\n",
        "        if xrange[0] < x <= xrange[-1]: \n",
        "            if yrange[0] < y <= yrange[-1]:\n",
        "                return True\n",
        "        return False\n",
        "        \n",
        "rectangle = Rectangle(Point(10,10),5,8)\n",
        "point = Point(14,17)\n",
        "point2 = Point(2,4)\n",
        "print(\"Rectangle:\",rectangle.__str__())\n",
        "print(\"Point:\",point)\n",
        "\n",
        "print(in_range(rectangle.corner,rectangle.width,rectangle.height,\n",
        "               point.x,point.y))\n",
        "\n",
        "print(in_range(rectangle.corner,rectangle.width,rectangle.height,\n",
        "               point2.x,point2.y))\n"
      ],
      "execution_count": 49,
      "outputs": [
        {
          "output_type": "stream",
          "text": [
            "Rectangle: ((10,10),5,8)\n",
            "Point: (14,17)\n",
            "True\n",
            "False\n"
          ],
          "name": "stdout"
        }
      ]
    }
  ]
}