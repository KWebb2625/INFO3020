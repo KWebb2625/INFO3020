{
  "nbformat": 4,
  "nbformat_minor": 0,
  "metadata": {
    "colab": {
      "name": "Assignment6.ipynb",
      "provenance": [],
      "authorship_tag": "ABX9TyO2ojUTC5ax64zRzmdNshna",
      "include_colab_link": true
    },
    "kernelspec": {
      "name": "python3",
      "display_name": "Python 3"
    }
  },
  "cells": [
    {
      "cell_type": "markdown",
      "metadata": {
        "id": "view-in-github",
        "colab_type": "text"
      },
      "source": [
        "<a href=\"https://colab.research.google.com/github/KWebb2625/Kathryn_INFO3020_Spring2020/blob/master/Assignment6.ipynb\" target=\"_parent\"><img src=\"https://colab.research.google.com/assets/colab-badge.svg\" alt=\"Open In Colab\"/></a>"
      ]
    },
    {
      "cell_type": "code",
      "metadata": {
        "id": "kDdvE0g6feee",
        "colab_type": "code",
        "colab": {
          "base_uri": "https://localhost:8080/",
          "height": 90
        },
        "outputId": "7a79dd25-d474-4d88-fbb8-6b99b6badbd9"
      },
      "source": [
        "# Kathryn Webb\n",
        "# 02/24/2020\n",
        "# 1:Write a function to write several numbers in one line (at least 10 numbers)\n",
        "# into a text file. Then write another function to read the numbers and turn\n",
        "# them into an array. Use a mask to set all values above 100 (half of your\n",
        "# numbers should be over 100) to be 100 and store the results into another text\n",
        "# file. Tips: map (int,list) could turn a string list to an int list\n",
        "\n",
        "import numpy as np\n",
        "\n",
        "def writetofile(nums,filename):\n",
        "    with open(filename, \"w\") as myfile:\n",
        "        print (\"Writing contents to\", filename, \": \", nums)\n",
        "        myfile.write(nums)\n",
        "\n",
        "def readfile(filename):\n",
        "    with open(filename, \"r\") as myfile:\n",
        "        contents = myfile.readline()\n",
        "        print(\"Reading contents from\" , filename, \": \", contents)\n",
        "        array = np.array(contents.split())\n",
        "    return array\n",
        "\n",
        "def intmap(list):\n",
        "  newList = list.astype(np.int)\n",
        "  return newList\n",
        "\n",
        "def strmap(list):\n",
        "  newList = [str(i) for i in list]\n",
        "  return newList\n",
        "\n",
        "def maskList(list):\n",
        "    cutoff = 100\n",
        "    newList=[]\n",
        "    for x in list:\n",
        "      if x>cutoff:\n",
        "        newList.append(100)\n",
        "      else:\n",
        "        newList.append(x)\n",
        "    return newList\n",
        "  \n",
        "def remakeString(list):\n",
        "    newString = \" \"\n",
        "    return (newString.join(list))\n",
        "\n",
        "\n",
        "nums = input(\"Enter Numbers:\")\n",
        "#\"100 2 345 45 588 60 774 81 93 111\"\n",
        "\n",
        "writetofile(nums,\"numfile.txt\")\n",
        "\n",
        "stringList = readfile(\"numfile.txt\")\n",
        "\n",
        "numList = intmap(stringList)\n",
        "\n",
        "newNumList = maskList(numList)\n",
        "\n",
        "newStringList = strmap(newNumList)\n",
        "\n",
        "remadeString = remakeString(newStringList)\n",
        "\n",
        "writetofile(remadeString,\"newfile.txt\")\n",
        "\n",
        "\n",
        "\n"
      ],
      "execution_count": 73,
      "outputs": [
        {
          "output_type": "stream",
          "text": [
            "Enter Numbers:1 2 555 12 123 44 7789\n",
            "Writing contents to numfile.txt :  1 2 555 12 123 44 7789\n",
            "Reading contents from numfile.txt :  1 2 555 12 123 44 7789\n",
            "Writing contents to newfile.txt :  1 2 100 12 100 44 100\n"
          ],
          "name": "stdout"
        }
      ]
    },
    {
      "cell_type": "code",
      "metadata": {
        "id": "twnxupbKgBB6",
        "colab_type": "code",
        "colab": {
          "base_uri": "https://localhost:8080/",
          "height": 110
        },
        "outputId": "2652627c-d3d3-4dc5-f225-8c336778d219"
      },
      "source": [
        "# Kathryn Webb\n",
        "# 02/24/2020\n",
        "# 2: Use a tuple to design a student list which has the structure of student id\n",
        "# and student name, write a function to write all the students into a text file\n",
        "# with one line per student. You should store at least 10 students. The student\n",
        "# id and name can be set by yourself. Then write another function to read the \n",
        "# text file and can get the student (with id and name) randomly. It looks like \n",
        "# random roll call in a class. \n",
        "\n",
        "def writetofile(studentInfo,filename):\n",
        "  with open(filename, \"w\") as myfile:\n",
        "    print (\"Writing contents to\", filename, \": \", studentInfo)\n",
        "    myfile.write(studentInfo)\n",
        "\n",
        "def convertToString(tup):\n",
        "    newStr = list(tup)\n",
        "    str1 = \" \"\n",
        "    for ele in newStr:\n",
        "      str1 += ele\n",
        "    print(\"1\",str1)\n",
        "    return str1\n",
        "\n",
        "def convertToList(studentInfo):\n",
        "    if type(studentInfo) == list:\n",
        "        return [convertToList(x) for x in studentInfo]\n",
        "    elif type(studentInfo) == tuple:\n",
        "        return str(convertToList(list(studentInfo)))\n",
        "    else:\n",
        "        return str(studentInfo)\n",
        "              \n",
        "studentInfo = (\n",
        "    (\"Alex\", 1),\n",
        "    (\"Vusi\", 2), \n",
        "    (\"Jess\", 3),\n",
        "    (\"AJ\", 4),\n",
        "    (\"Kathryn\", 5),\n",
        "    (\"Marie\", 6),\n",
        "    (\"John\", 7),\n",
        "    (\"Caleb\", 8),\n",
        "    (\"Taylor\",9),\n",
        "    (\"Logan\", 10)\n",
        ")\n",
        "\n",
        "listStudentInfo = convertToList(studentInfo)\n",
        "print(\"list\",listStudentInfo)\n",
        "#writetofile(listStudentInfo[0],\"students.txt\")\n",
        "stringStudentInfo = convertToString(listStudentInfo)\n",
        "print(\"string\",stringStudentInfo)\n",
        "\n",
        "writetofile(stringStudentInfo,\"students.txt\")\n",
        "\n",
        "#for student_name, student_id in studentInfo:\n",
        "#    print(student_name)\n",
        "#    print(student_id)\n"
      ],
      "execution_count": 123,
      "outputs": [
        {
          "output_type": "stream",
          "text": [
            "list [\"['Alex', '1']\", \"['Vusi', '2']\", \"['Jess', '3']\", \"['AJ', '4']\", \"['Kathryn', '5']\", \"['Marie', '6']\", \"['John', '7']\", \"['Caleb', '8']\", \"['Taylor', '9']\", \"['Logan', '10']\"]\n",
            "1  [\"['Alex', '1']\", \"['Vusi', '2']\", \"['Jess', '3']\", \"['AJ', '4']\", \"['Kathryn', '5']\", \"['Marie', '6']\", \"['John', '7']\", \"['Caleb', '8']\", \"['Taylor', '9']\", \"['Logan', '10']\"]\n",
            "string  [\"['Alex', '1']\", \"['Vusi', '2']\", \"['Jess', '3']\", \"['AJ', '4']\", \"['Kathryn', '5']\", \"['Marie', '6']\", \"['John', '7']\", \"['Caleb', '8']\", \"['Taylor', '9']\", \"['Logan', '10']\"]\n",
            "Writing contents to students.txt :   [\"['Alex', '1']\", \"['Vusi', '2']\", \"['Jess', '3']\", \"['AJ', '4']\", \"['Kathryn', '5']\", \"['Marie', '6']\", \"['John', '7']\", \"['Caleb', '8']\", \"['Taylor', '9']\", \"['Logan', '10']\"]\n"
          ],
          "name": "stdout"
        }
      ]
    }
  ]
}