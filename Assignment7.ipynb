{
  "nbformat": 4,
  "nbformat_minor": 0,
  "metadata": {
    "colab": {
      "name": "Assignment7.ipynb",
      "provenance": [],
      "authorship_tag": "ABX9TyMIyHF4pIawXlxC7KlchMye",
      "include_colab_link": true
    },
    "kernelspec": {
      "name": "python3",
      "display_name": "Python 3"
    }
  },
  "cells": [
    {
      "cell_type": "markdown",
      "metadata": {
        "id": "view-in-github",
        "colab_type": "text"
      },
      "source": [
        "<a href=\"https://colab.research.google.com/github/KWebb2625/Kathryn_INFO3020_Spring2020/blob/master/Assignment7.ipynb\" target=\"_parent\"><img src=\"https://colab.research.google.com/assets/colab-badge.svg\" alt=\"Open In Colab\"/></a>"
      ]
    },
    {
      "cell_type": "code",
      "metadata": {
        "id": "MdDjOj6Mi6-u",
        "colab_type": "code",
        "colab": {}
      },
      "source": [
        "# Kathryn Webb\n",
        "# 03/02/2020\n",
        "\n",
        "import turtle\n",
        "\n",
        "square = turtle.Turtle()            # create turtle\n",
        "square.color(\"hotpink\")\n",
        "square.pensize(3)\n",
        "\n",
        "window = turtle.Screen()            # create window\n",
        "window.bgcolor(\"lightgreen\")\n",
        "\n",
        "\n",
        "def recursive_square(count, size=20):   \n",
        "    if count > 0:\n",
        "        for _ in range(4):\n",
        "            square.forward(size)\n",
        "            square.left(90)\n",
        "        square.penup()\n",
        "        square.forward(size * 2)\n",
        "        square.pendown()\n",
        "        recursive_square(count - 1)\n",
        "\n",
        "\n",
        "recursive_square(5)              # start with count of 5, default size of 20\n",
        "window.mainloop()\n"
      ],
      "execution_count": 0,
      "outputs": []
    },
    {
      "cell_type": "code",
      "metadata": {
        "id": "DuYDpE3KjDEi",
        "colab_type": "code",
        "colab": {}
      },
      "source": [
        "# Kathryn Webb\n",
        "# 03/02/2020\n",
        "\n",
        "import turtle\n",
        "\n",
        "square = turtle.Turtle()               # create turtle\n",
        "square.color(\"hotpink\")\n",
        "square.pensize(3)\n",
        "\n",
        "window = turtle.Screen()               # create window\n",
        "window.bgcolor(\"lightgreen\")\n",
        "\n",
        "\n",
        "def recursive_square(count, size=10):   # starts with size 10 and increases \n",
        "    if count > 0:                       # by 20 for each iteration\n",
        "        for _ in range(4):\n",
        "            square.forward(size)\n",
        "            square.left(90)\n",
        "        square.penup()\n",
        "        square.right(90)\n",
        "        square.forward(10)\n",
        "        square.right(90)\n",
        "        square.forward(10)\n",
        "        square.right(180)\n",
        "        square.pendown()\n",
        "        recursive_square(count - 1, size + 20)\n",
        "\n",
        "\n",
        "recursive_square(5)                     # start squares with count of 5 \n",
        "                                        # and default size of 10\n",
        "window.mainloop()\n"
      ],
      "execution_count": 0,
      "outputs": []
    },
    {
      "cell_type": "code",
      "metadata": {
        "id": "hYjnzYFgjFU0",
        "colab_type": "code",
        "colab": {
          "base_uri": "https://localhost:8080/",
          "height": 53
        },
        "outputId": "3a8a842a-7a44-4f7b-8b22-8d492cc03a61"
      },
      "source": [
        "# Kathryn Webb\n",
        "# 03/02/2020\n",
        "# Write a function count that returns the total count of a specific\n",
        "# number in a nested list. The requirements are as follows:\n",
        "# The elements type of the list should be int.\n",
        "# It should be at least 5 nested in depth.\n",
        "# You can define the number by yourself.\n",
        "\n",
        "nested_list = [1, [2, 2, [2, 3, 4, [5, [5, 4, 5, 6, 7, 8], 6, 7], 4]], [3, 3, 3], 4]\n",
        "\n",
        "\n",
        "def count_list(lst, target):\n",
        "    count = 0\n",
        "    for elem in lst:\n",
        "        if elem == target:\n",
        "            count += 1\n",
        "        if type(elem) == list:\n",
        "            count += count_list(elem, target)\n",
        "    return count\n",
        "\n",
        "\n",
        "targetNum = input(\"Enter a number to search for, between 1 and 8:\")\n",
        "total = count_list(nested_list, int(targetNum))\n",
        "if total == 1:\n",
        "    print(\"The number\", targetNum, \"occurred once.\")\n",
        "else:\n",
        "    print(\"The number\", targetNum, \"occurred\", targetNum, \"times.\")\n",
        "\n"
      ],
      "execution_count": 1,
      "outputs": [
        {
          "output_type": "stream",
          "text": [
            "Enter a number to search for, between 1 and 8:4\n",
            "The number 4 occurred 4 times.\n"
          ],
          "name": "stdout"
        }
      ]
    }
  ]
}