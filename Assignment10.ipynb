{
  "nbformat": 4,
  "nbformat_minor": 0,
  "metadata": {
    "colab": {
      "name": "Assignment10.ipynb",
      "provenance": [],
      "authorship_tag": "ABX9TyPFnRwcBnXUUnq4vQf++CEJ",
      "include_colab_link": true
    },
    "kernelspec": {
      "name": "python3",
      "display_name": "Python 3"
    }
  },
  "cells": [
    {
      "cell_type": "markdown",
      "metadata": {
        "id": "view-in-github",
        "colab_type": "text"
      },
      "source": [
        "<a href=\"https://colab.research.google.com/github/KWebb2625/Kathryn_INFO3020_Spring2020/blob/master/Assignment10.ipynb\" target=\"_parent\"><img src=\"https://colab.research.google.com/assets/colab-badge.svg\" alt=\"Open In Colab\"/></a>"
      ]
    },
    {
      "cell_type": "code",
      "metadata": {
        "id": "u4AbLsVgap6P",
        "colab_type": "code",
        "colab": {}
      },
      "source": [
        "# Kathryn Webb\n",
        "# 4/1/2020\n",
        "# 2:Given a sql file “world.sql”, complete the following tasks.\n",
        "# (1) import the file into your MySQL Server.\n",
        "# (2) write a function which could retrieval all the data from the table “country” in database ”world”\n",
        "# (3) write a function which could retrieve one record from the table \"country\" by a specific parameter\n",
        "#     which is related to the field \"Name\"\n",
        "\n",
        "import pymysql\n",
        "\n",
        "pydb = pymysql.connect(\"localhost\", \"root\", \"Info3020!!!!!\", \"world\")\n",
        "dbcursor = pydb.cursor()\n",
        "sql = \"select * from country\"\n",
        "\n",
        "sql2 = \"select * from country where Name='Germany'\"\n",
        "command = dbcursor.execute(sql)\n",
        "results = dbcursor.fetchall()\n",
        "print(\"Code \\t Name \\t\\t Continent \\t\\t Region \\t\\t SurfaceArea \\t\\t IndepYear \\t\\t\"\n",
        "      \"Population \\t\\t LifeExpectancy \\t\\t GNP \\t\\t GNPOld \\t\\t LocalName \\t\\t GovernmentForm \\t\\t\"\n",
        "      \"HeadOfState \\t\\t Capital \\t\\t Code2\")\n",
        "print('-------------------------------------------------------------------------------------------------------------' +\n",
        "      '-------------------------------------------------------------------------------------------------------------')\n",
        "\n",
        "for row in results:\n",
        "    print(row[0] + \"\\t\\t\" + row[1] + \"\\t\\t\" + str(row[2]) + \"\\t\\t\" + row[3] + \"\\t\\t\" + str(row[4]) + \"\\t\\t\" + str(row[5])\n",
        "          + \"\\t\" + str(row[6]) + \"\\t\" + str(row[7]) + \"\\t\" + str(row[8]) + \"\\t\" + str(row[9]) + \"\\t\" + row[10]\n",
        "          + \"\\t\" + row[11] + \"\\t\" + str(row[12]) + '\\t' + str(row[13]) + \"\\t\" + row[14])\n",
        "\n",
        "command = dbcursor.execute(sql2)\n",
        "results = dbcursor.fetchone()\n",
        "print(\"\\n\\n\")\n",
        "print(\"Code \\t Name \\t\\t Continent \\t\\t Region \\t\\t SurfaceArea \\t\\t IndepYear \\t\\t\"\n",
        "      \"Population \\t\\t LifeExpectancy \\t\\t GNP \\t\\t GNPOld \\t\\t LocalName \\t\\t GovernmentForm \\t\\t\"\n",
        "      \"HeadOfState \\t\\t Capital \\t\\t Code2\")\n",
        "\n",
        "print(results[0]+ \"\\t\\t\" + results[1] + \"\\t\\t\" + str(results[2]) + \"\\t\\t\" + results[3] + \"\\t\\t\" + str(results[4]) + \"\\t\\t\" + str(results[5])\n",
        "      + \"\\t\" + str(results[6]) + \"\\t\" + str(results[7]) + \"\\t\" + str(results[8]) + \"\\t\" + str(results[9]) + \"\\t\" + results[10]\n",
        "      + \"\\t\" + results[11] + \"\\t\" + str(results[12]) + '\\t' + str(results[13]) + \"\\t\" + results[14])\n",
        "pydb.close()\n"
      ],
      "execution_count": 0,
      "outputs": []
    }
  ]
}