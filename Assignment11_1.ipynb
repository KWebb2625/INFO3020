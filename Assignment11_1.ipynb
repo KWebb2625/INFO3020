{
  "nbformat": 4,
  "nbformat_minor": 0,
  "metadata": {
    "colab": {
      "name": "Assignment11-1.ipynb",
      "provenance": [],
      "authorship_tag": "ABX9TyPsBXI8ijnTyNRmXWI+ta9P",
      "include_colab_link": true
    },
    "kernelspec": {
      "name": "python3",
      "display_name": "Python 3"
    }
  },
  "cells": [
    {
      "cell_type": "markdown",
      "metadata": {
        "id": "view-in-github",
        "colab_type": "text"
      },
      "source": [
        "<a href=\"https://colab.research.google.com/github/KWebb2625/Kathryn_INFO3020_Spring2020/blob/master/Assignment11_1.ipynb\" target=\"_parent\"><img src=\"https://colab.research.google.com/assets/colab-badge.svg\" alt=\"Open In Colab\"/></a>"
      ]
    },
    {
      "cell_type": "code",
      "metadata": {
        "id": "1o79cF5fy33g",
        "colab_type": "code",
        "colab": {}
      },
      "source": [
        "# Assignment 11-1\n",
        "# 1. Use csv file 'ch02-data.csv', which stores a date and numbers.\n",
        "# Write a series of functions that can sum the numbers by date\n",
        "# and output the results into an excel file.\n",
        "# The requirements are as follows:\n",
        "#   1.1 Create a table in MySQL which has the same structure as\n",
        "#   the csv file.\n",
        "#   1.2 Read the csv file and import that data into MySQL\n",
        "#   1.3 Use SQL to sum the numbers by date\n",
        "#   1.4 Output the sum results into an excel file\n",
        "\n",
        "import pymysql\n",
        "\n",
        "db = 'pydb'\n",
        "pydb = pymysql.connect(\"localhost\", \"root\", \"Info3020!!!!!\", db)\n",
        "dbcursor = pydb.cursor()\n",
        "\n",
        "\n",
        "def create_table(name, name1, type1, name2, type2):\n",
        "    sql = \"CREATE TABLE {} ({} {}, {} {})\".format(name, name1, type1, name2, type2)\n",
        "    dbcursor.execute(sql)\n",
        "    pydb.commit()\n",
        "    sql = \"show tables\"\n",
        "    dbcursor.execute(sql)\n",
        "\n",
        "\n",
        "def import_from_csv(filename, tablename):\n",
        "    sql = 'LOAD DATA LOCAL INFILE %s INTO TABLE {0} FIELDS TERMINATED BY \",\"' \\\n",
        "          ' IGNORE 1 LINES;'.format(tablename)\n",
        "    dbcursor.execute(sql, filename)\n",
        "    pydb.commit()\n",
        "\n",
        "\n",
        "def sum_by_date(tablename, file_path):\n",
        "    sql = \"SELECT SUM(Num) AS Sum FROM {} GROUB BY 'DATE'\".format(tablename)\n",
        "    result = dbcursor.execute(sql)\n",
        "    result.to_csv(file_path, encoding='utf-8', header=True)\n",
        "\n",
        "\n",
        "create_table('dateANDnum', 'Date', 'Date', 'Num', 'Int')\n",
        "import_from_csv(\"assign11-1-ch02-data.csv\", 'dateandnum')\n",
        "sum_by_date('dateandnum', 'sumdata.csv')\n",
        "\n",
        "pydb.close()\n"
      ],
      "execution_count": 0,
      "outputs": []
    },
    {
      "cell_type": "code",
      "metadata": {
        "id": "2jb_JTJOy7C-",
        "colab_type": "code",
        "colab": {}
      },
      "source": [
        "# Assignment 11-1\n",
        "# 2. Use the excel file named “catering_sale_all.xls”.\n",
        "# It stores the sale numberes of several kind of food on one day.\n",
        "# Write a function that can get the best selling food(foodname and sales)\n",
        "# by the specific day. Use any method you wish.\n",
        "\n",
        "import pandas as pd\n",
        "\n",
        "myfile = 'assign11-1-catering_sale_all.xls'\n",
        "\n",
        "\n",
        "def bestSeller(file):\n",
        "    exceldata = pd.read_excel(file, header=0, index_col=0)\n",
        "\n",
        "    new_data = exceldata.idxmax(axis=1)\n",
        "    new_data = new_data.transpose()\n",
        "    salemax = exceldata.max(axis=1)\n",
        "\n",
        "    new_data = pd.concat([new_data, salemax.rename(\"Total Sales\")], axis=1)\n",
        "\n",
        "    return new_data\n",
        "\n",
        "print(bestSeller(myfile))\n"
      ],
      "execution_count": 0,
      "outputs": []
    }
  ]
}