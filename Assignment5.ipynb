{
  "nbformat": 4,
  "nbformat_minor": 0,
  "metadata": {
    "colab": {
      "name": "Assignment5.ipynb",
      "provenance": [],
      "authorship_tag": "ABX9TyPerH16S/O3I8J3FmWfo34o",
      "include_colab_link": true
    },
    "kernelspec": {
      "name": "python3",
      "display_name": "Python 3"
    }
  },
  "cells": [
    {
      "cell_type": "markdown",
      "metadata": {
        "id": "view-in-github",
        "colab_type": "text"
      },
      "source": [
        "<a href=\"https://colab.research.google.com/github/KWebb2625/Kathryn_INFO3020_Spring2020/blob/master/Assignment5.ipynb\" target=\"_parent\"><img src=\"https://colab.research.google.com/assets/colab-badge.svg\" alt=\"Open In Colab\"/></a>"
      ]
    },
    {
      "cell_type": "code",
      "metadata": {
        "id": "WDg7PKVvqk7Q",
        "colab_type": "code",
        "outputId": "794299d8-1fb4-4c8a-950b-6fddb7d7cf2a",
        "colab": {
          "base_uri": "https://localhost:8080/",
          "height": 181
        }
      },
      "source": [
        "# Kathryn Webb\n",
        "# 02/17/2020\n",
        "# 1. Use tuple to create a student data structure which could store every\n",
        "# students' student id, student name, and their courses they selected.\n",
        "# There should be at least two courses. Write a function which could\n",
        "# return the courses by the specific student's name.\n",
        "\n",
        "studentInfo = ((\"Alex\", 55, (\"Comp Sci\", \"English\")),(\"Vusi\", 66, (\"Stats\", \"Accounting\")), (\"Jess\", 77, (\"Economics\", \"Comp Sci\", \"Philosophy\")))\n",
        "for student_name, student_id, student_courses in studentInfo:\n",
        "    print(student_name) \n",
        "    print(student_id)\n",
        "    print(student_courses)\n"
      ],
      "execution_count": 103,
      "outputs": [
        {
          "output_type": "stream",
          "text": [
            "Alex\n",
            "55\n",
            "('Comp Sci', 'English')\n",
            "Vusi\n",
            "66\n",
            "('Stats', 'Accounting')\n",
            "Jess\n",
            "77\n",
            "('Economics', 'Comp Sci', 'Philosophy')\n"
          ],
          "name": "stdout"
        }
      ]
    },
    {
      "cell_type": "code",
      "metadata": {
        "id": "IgfU_QpzhX-l",
        "colab_type": "code",
        "colab": {
          "base_uri": "https://localhost:8080/",
          "height": 53
        },
        "outputId": "67b5fee9-b68f-4d55-d136-3d6e31de0a8b"
      },
      "source": [
        "# Kathryn Webb\n",
        "# 02/17/2020\n",
        "# 2. \n",
        "# 1. Write a function which could create a matrix which has n rows and\n",
        "#    m columns.\n",
        "# 2. Fill the matrix with any data you want.\n",
        "# 3. Write another function which could return the index of any specific data\n",
        "# 4. If the specific data is not in the matrix, return -1, or return \n",
        "#    the row and column where the data is stored.\n",
        "\n",
        "\n",
        "matrix = [[1,2,3,4],[5,6,7,8]]\n",
        "\n",
        "def findLocation(num):\n",
        "  for i in range(len(matrix)):\n",
        "     for j in range(len(matrix[0])):\n",
        "          if matrix[i][j] == num:\n",
        "            print(i,j)\n",
        "            \n",
        "\n",
        "numInput = input(\"Enter num:\")\n",
        "findLocation(int(numInput))\n",
        "\n",
        "\n",
        "\n"
      ],
      "execution_count": 104,
      "outputs": [
        {
          "output_type": "stream",
          "text": [
            "Enter num:5\n",
            "1 0\n"
          ],
          "name": "stdout"
        }
      ]
    },
    {
      "cell_type": "code",
      "metadata": {
        "id": "fdCBiV7YFhDd",
        "colab_type": "code",
        "colab": {
          "base_uri": "https://localhost:8080/",
          "height": 144
        },
        "outputId": "b3cc4509-b146-4930-866f-7d955c5e25d8"
      },
      "source": [
        "# Kathryn Webb\n",
        "# 02/17/2020\n",
        "# 3. Write a function which could return the frequency of occurence of every\n",
        "# word in one specific string or passage.\n",
        "# The result should be stored as a dictionary.\n",
        "# Write another function which could list the content of dictionary.\n",
        "\n",
        "def getDuplicatesWithCount(listOfElems):\n",
        "    dictOfElems = dict()\n",
        "\n",
        "    for elem in listOfElems:\n",
        "\n",
        "        if elem in dictOfElems:\n",
        "            dictOfElems[elem] += 1\n",
        "        else:\n",
        "            dictOfElems[elem] = 1\n",
        "\n",
        "    dictOfElems = {key: value for key, value in dictOfElems.items()}\n",
        "\n",
        "    return dictOfElems\n",
        "\n",
        "myString = \"Hello my my my name is Kathryn\"\n",
        "listOfElems = myString.split()\n",
        "\n",
        "dictOfElems = getDuplicatesWithCount(listOfElems)\n",
        "print(\"Word       Count\")\n",
        "print(\"================\")\n",
        "for key, value in dictOfElems.items():\n",
        "     print(key , \"     \", value)\n",
        "  "
      ],
      "execution_count": 100,
      "outputs": [
        {
          "output_type": "stream",
          "text": [
            "Word       Count\n",
            "================\n",
            "Hello       1\n",
            "my       3\n",
            "name       1\n",
            "is       1\n",
            "Kathryn       1\n"
          ],
          "name": "stdout"
        }
      ]
    }
  ]
}