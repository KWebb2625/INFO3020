{
  "nbformat": 4,
  "nbformat_minor": 0,
  "metadata": {
    "colab": {
      "name": "Assignment5.ipynb",
      "provenance": [],
      "authorship_tag": "ABX9TyO1H4de2Z9gs0vSUpb3jiQk",
      "include_colab_link": true
    },
    "kernelspec": {
      "name": "python3",
      "display_name": "Python 3"
    }
  },
  "cells": [
    {
      "cell_type": "markdown",
      "metadata": {
        "id": "view-in-github",
        "colab_type": "text"
      },
      "source": [
        "<a href=\"https://colab.research.google.com/github/KWebb2625/Kathryn_INFO3020_Spring2020/blob/master/Assignment5.ipynb\" target=\"_parent\"><img src=\"https://colab.research.google.com/assets/colab-badge.svg\" alt=\"Open In Colab\"/></a>"
      ]
    },
    {
      "cell_type": "code",
      "metadata": {
        "id": "WDg7PKVvqk7Q",
        "colab_type": "code",
        "outputId": "50868ecb-85e4-4098-faca-0037adb71e50",
        "colab": {
          "base_uri": "https://localhost:8080/",
          "height": 72
        }
      },
      "source": [
        "# Kathryn Webb\n",
        "# 02/17/2020\n",
        "# 1. Use tuple to create a student data structure which could store every\n",
        "# students' student id, student name, and their courses they selected.\n",
        "# There should be at least two courses. Write a function which could\n",
        "# return the courses by the specific student's name.\n",
        "\n",
        "studentInfo = ((\"Alex\", 55, (\"Comp Sci\", \"English\")),(\"Vusi\", 66, (\"Stats\", \"Accounting\")), (\"Jess\", 77, (\"Economics\", \"Comp Sci\", \"Philosophy\")))\n",
        "for student_name, student_id, student_courses in studentInfo:\n",
        "    print(\"Name:\",(student_name),\"  Student ID:\",(student_id),\"  Courses:\",(student_courses))\n",
        "    "
      ],
      "execution_count": 181,
      "outputs": [
        {
          "output_type": "stream",
          "text": [
            "Name: Alex   Student ID: 55   Courses: ('Comp Sci', 'English')\n",
            "Name: Vusi   Student ID: 66   Courses: ('Stats', 'Accounting')\n",
            "Name: Jess   Student ID: 77   Courses: ('Economics', 'Comp Sci', 'Philosophy')\n"
          ],
          "name": "stdout"
        }
      ]
    },
    {
      "cell_type": "code",
      "metadata": {
        "id": "IgfU_QpzhX-l",
        "colab_type": "code",
        "colab": {
          "base_uri": "https://localhost:8080/",
          "height": 53
        },
        "outputId": "b7be7c3c-3c90-4a12-c3d3-4e46644b9866"
      },
      "source": [
        "# Kathryn Webb\n",
        "# 02/17/2020\n",
        "# 2. \n",
        "# 1. Write a function which could create a matrix which has n rows and\n",
        "#    m columns.\n",
        "# 2. Fill the matrix with any data you want.\n",
        "# 3. Write another function which could return the index of any specific data\n",
        "# 4. If the specific data is not in the matrix, return -1, or return \n",
        "#    the row and column where the data is stored.\n",
        "\n",
        "\n",
        "def createMatrix():   \n",
        "    matrix = [[1,2,3,4],[5,6,7,8]]\n",
        "    return matrix\n",
        "\n",
        "def findLocation(num,myMatrix):\n",
        "  result = -1\n",
        "  for i in range(len(matrix)):\n",
        "    for j in range(len(matrix[0])):\n",
        "          if matrix[i][j] == num:\n",
        "            result = (i,j)\n",
        "  return result\n",
        "            \n",
        "\n",
        "myMatrix = createMatrix()\n",
        "numInput = input(\"Enter num: \")\n",
        "\n",
        "result = findLocation(int(numInput),myMatrix)\n",
        "\n",
        "print(result)\n"
      ],
      "execution_count": 171,
      "outputs": [
        {
          "output_type": "stream",
          "text": [
            "Enter num: 8\n",
            "(1, 3)\n"
          ],
          "name": "stdout"
        }
      ]
    },
    {
      "cell_type": "code",
      "metadata": {
        "id": "fdCBiV7YFhDd",
        "colab_type": "code",
        "colab": {
          "base_uri": "https://localhost:8080/",
          "height": 217
        },
        "outputId": "172b9963-f3cb-43f6-a6cb-28745b9a0b63"
      },
      "source": [
        "# Kathryn Webb\n",
        "# 02/17/2020\n",
        "# 3. Write a function which could return the frequency of occurence of every\n",
        "# word in one specific string or passage.\n",
        "# The result should be stored as a dictionary.\n",
        "# Write another function which could list the content of dictionary.\n",
        "\n",
        "def getDuplicatesWithCount(listOfElems):\n",
        "    dictOfElems = dict()\n",
        "\n",
        "    for elem in listOfElems:\n",
        "\n",
        "        if elem in dictOfElems:\n",
        "            dictOfElems[elem] += 1\n",
        "        else:\n",
        "            dictOfElems[elem] = 1\n",
        "\n",
        "    dictOfElems = {key: value for key, value in dictOfElems.items()}\n",
        "\n",
        "    return dictOfElems\n",
        "\n",
        "def printDictionary(dictOfElems):\n",
        "  print(\"Word       Count\")\n",
        "  print(\"================\")\n",
        "  x = \" \"\n",
        "  for key, value in dictOfElems.items():\n",
        "    y = 13 - len(key)\n",
        "    print(key , y*x , value)\n",
        "\n",
        "myString = input(\"Type a sentence: \")\n",
        "listOfElems = myString.split()\n",
        "\n",
        "dictOfElems = getDuplicatesWithCount(listOfElems)\n",
        "printDictionary(dictOfElems)\n",
        "  "
      ],
      "execution_count": 176,
      "outputs": [
        {
          "output_type": "stream",
          "text": [
            "Type a sentence: a b c c c d d e f g hello hello\n",
            "Word       Count\n",
            "================\n",
            "a              1\n",
            "b              1\n",
            "c              3\n",
            "d              2\n",
            "e              1\n",
            "f              1\n",
            "g              1\n",
            "hello          2\n"
          ],
          "name": "stdout"
        }
      ]
    }
  ]
}