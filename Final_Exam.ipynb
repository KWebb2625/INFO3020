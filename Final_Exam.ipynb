{
  "nbformat": 4,
  "nbformat_minor": 0,
  "metadata": {
    "colab": {
      "name": "Final Exam.ipynb",
      "provenance": [],
      "authorship_tag": "ABX9TyON9xzbclUQaE5wtw9GwqoI",
      "include_colab_link": true
    },
    "kernelspec": {
      "name": "python3",
      "display_name": "Python 3"
    }
  },
  "cells": [
    {
      "cell_type": "markdown",
      "metadata": {
        "id": "view-in-github",
        "colab_type": "text"
      },
      "source": [
        "<a href=\"https://colab.research.google.com/github/KWebb2625/Kathryn_INFO3020_Spring2020/blob/master/Final_Exam.ipynb\" target=\"_parent\"><img src=\"https://colab.research.google.com/assets/colab-badge.svg\" alt=\"Open In Colab\"/></a>"
      ]
    },
    {
      "cell_type": "code",
      "metadata": {
        "id": "BfruzUAmUGoc",
        "colab_type": "code",
        "colab": {
          "base_uri": "https://localhost:8080/",
          "height": 54
        },
        "outputId": "8d243a32-8a7d-4b48-8ec2-130cd5573cac"
      },
      "source": [
        "# Kathryn Webb\n",
        "# 1: write a function which could print a string content. The requirements are as follows (20’)\n",
        "# (1) the function accepts one argument which is  printed as the string  content (10’)\n",
        "# (2) the value of the argument should be provided in command line (10’)\n",
        "\n",
        "\n",
        "def returnstring(str):\n",
        "    print(str)\n",
        "\n",
        "mystring = input()\n",
        "returnstring(mystring)"
      ],
      "execution_count": 1,
      "outputs": [
        {
          "output_type": "stream",
          "text": [
            "Hello World!\n",
            "Hello World!\n"
          ],
          "name": "stdout"
        }
      ]
    },
    {
      "cell_type": "code",
      "metadata": {
        "id": "wi8UHdo0URqc",
        "colab_type": "code",
        "colab": {
          "base_uri": "https://localhost:8080/",
          "height": 54
        },
        "outputId": "2b2f0061-0008-4d7e-a105-4cb99197f67b"
      },
      "source": [
        "# Kathryn Webb\n",
        "# 2: Write a program that could sum all the even digit in the scope of 1-1000. The requirements are as follows. (20’)\n",
        "# (1) use the function of range to express the scope of 1-1000 (10’)\n",
        "# (2) use for loop to deal with the scope (10’)\n",
        "# The result should be “250500”.\n",
        "\n",
        "\n",
        "def sumevendigits(num):\n",
        "    sum = 0\n",
        "    for x in range(1, num + 1):\n",
        "        if x % 2 == 0:\n",
        "            sum += x\n",
        "    return sum\n",
        "\n",
        "myrange = input()\n",
        "myrange = int(myrange)\n",
        "print(sumevendigits(myrange))"
      ],
      "execution_count": 2,
      "outputs": [
        {
          "output_type": "stream",
          "text": [
            "1000\n",
            "250500\n"
          ],
          "name": "stdout"
        }
      ]
    },
    {
      "cell_type": "code",
      "metadata": {
        "id": "ju2y5zg0UWYi",
        "colab_type": "code",
        "colab": {
          "base_uri": "https://localhost:8080/",
          "height": 36
        },
        "outputId": "7fe3218c-3b16-43ef-d542-d5c1b0bdcac6"
      },
      "source": [
        "# Kathryn Webb\n",
        "# 3: Given a number list which is numbers=[12,10,3,2,[6,[7,8,9],19,21],21].\n",
        "# Write a function that can get the product of all the numbers in the list.\n",
        "# The requirements are as follows. (20’)\n",
        "# (1) write the function by recursion (10’)\n",
        "# (2) the “numbers” should be an argument of the function (5’)\n",
        "# (3) the function returns a number (5’)\n",
        "# The result should be “18243429120”.\n",
        "\n",
        "\n",
        "def recursive_product(nested_number_list):\n",
        "    product = 1\n",
        "    for elem in nested_number_list:\n",
        "        if type(elem) is list:\n",
        "            product = recursive_product(elem) * product\n",
        "        else:\n",
        "            product = elem * product\n",
        "    return product\n",
        "\n",
        "\n",
        "numlist = [12,10,3,2,[6,[7,8,9],19,21],21]\n",
        "print(recursive_product(numlist))\n",
        "\n"
      ],
      "execution_count": 3,
      "outputs": [
        {
          "output_type": "stream",
          "text": [
            "18243429120\n"
          ],
          "name": "stdout"
        }
      ]
    },
    {
      "cell_type": "code",
      "metadata": {
        "id": "T7DRcAZOUaZP",
        "colab_type": "code",
        "colab": {}
      },
      "source": [
        "# Kathryn Webb\n",
        "# 4: Given a matrix which is matrix=[[23,43,12],[32,12,52],[15,35,52],[19,28,56]].\n",
        "# Write a function to complete the following task. (30’)\n",
        "# (1) turn the matrix (List) into an array (5’)\n",
        "# (2) use mask to set all the value above 20 to 0 (15’)\n",
        "# (3) output the result into a txt file (10’)\n",
        "\n",
        "import numpy as np\n",
        "\n",
        "\n",
        "def matrixToFile(matrix):\n",
        "    a = np.array(matrix)\n",
        "    cutoff = 20\n",
        "    a[a > cutoff] = 0\n",
        "    new_a = np.array2string(a)\n",
        "    with open('array.txt', 'w') as myfile:\n",
        "        myfile.write(new_a)\n",
        "\n",
        "\n",
        "matrix = [[23, 43, 12],\n",
        "          [32, 12, 52],\n",
        "          [15, 35, 52],\n",
        "          [19, 28, 56]]\n",
        "matrixToFile(matrix)"
      ],
      "execution_count": 0,
      "outputs": []
    },
    {
      "cell_type": "code",
      "metadata": {
        "id": "ziH2yJDpUelw",
        "colab_type": "code",
        "colab": {
          "base_uri": "https://localhost:8080/",
          "height": 166
        },
        "outputId": "dea3ebd5-31fe-4ac3-f013-1a7c1df2dc57"
      },
      "source": [
        "# Kathryn Webb\n",
        "# 5: Given a number list which is numbers=[1,3,2,4,2,3,2,2,3,2,2,4,2,32,3,2,4,2,3,5,3,2,4,2,2,4,2,2,4,2,2,3,1,3,2,3].\n",
        "# Write a function to complete  the following task. (30’)\n",
        "# (1) count the frequency of each different number in numbers list (10’)\n",
        "# (2) store the result into dictionary (10’)\n",
        "# (3) print it out (10’)\n",
        "\n",
        "def getDuplicatesWithCount(listOfElems):\n",
        "    dictOfElems = dict()\n",
        "\n",
        "    for elem in listOfElems:\n",
        "\n",
        "        if elem in dictOfElems:\n",
        "            dictOfElems[elem] += 1\n",
        "        else:\n",
        "            dictOfElems[elem] = 1\n",
        "\n",
        "    dictOfElems = {key: value for key, value in dictOfElems.items()}\n",
        "\n",
        "    return dictOfElems\n",
        "\n",
        "numbers = [1,3,2,4,2,3,2,2,3,2,2,4,2,32,3,2,4,2,3,5,3,2,4,2,2,4,2,2,4,2,2,3,1,3,2,3]\n",
        "listOfElems = map(str, numbers)\n",
        "\n",
        "dictOfElems = getDuplicatesWithCount(listOfElems)\n",
        "print(\"Word       Count\")\n",
        "print(\"================\")\n",
        "for key, value in dictOfElems.items():\n",
        "     print(key , \"        \", value)"
      ],
      "execution_count": 6,
      "outputs": [
        {
          "output_type": "stream",
          "text": [
            "Word       Count\n",
            "================\n",
            "1          2\n",
            "3          9\n",
            "2          17\n",
            "4          6\n",
            "32          1\n",
            "5          1\n"
          ],
          "name": "stdout"
        }
      ]
    },
    {
      "cell_type": "code",
      "metadata": {
        "id": "syKwoACBUhY1",
        "colab_type": "code",
        "colab": {
          "base_uri": "https://localhost:8080/",
          "height": 92
        },
        "outputId": "d0b691a1-fb1a-4d5f-b789-3166bc53f980"
      },
      "source": [
        "# Kathryn Webb\n",
        "# 6: Create a class Point which represent a point in two dimensions.\n",
        "# It has two properties x and y. The detail requirements are as follows.\n",
        "# (1) When creating an object of Point, we can assign the value to x and y.\n",
        "#     If we don’t provide the value, they will be 0. (10’)\n",
        "# (2) If we print the object of Point directly, it will output the value of x and y.\n",
        "# (3) if we create two different objects of Point which are p1 and p2, (p1+p2) will\n",
        "#     get a new Point whose x is (p1.x+p2.x) and y is (p1.y+p2.y).\n",
        "# Suppose p1(1,3) and p2(3.,4)\n",
        "\n",
        "\n",
        "class Point:\n",
        "    def __init__(self, x=0, y=0):\n",
        "        self.x=x\n",
        "        self.y=y\n",
        "\n",
        "    def __str__(self):\n",
        "        return \"The Point is ({0},{1})\".format(self.x, self.y)\n",
        "\n",
        "    def __add__(self, target):\n",
        "        return Point(self.x + target.x, self.y + target.y)\n",
        "\n",
        "\n",
        "p1 = Point(1, 3)\n",
        "p2 = Point(3, 4)\n",
        "p3 = Point()\n",
        "\n",
        "print(p1)\n",
        "print(p2)\n",
        "print(p3)\n",
        "print(p1 + p2)\n",
        "\n"
      ],
      "execution_count": 8,
      "outputs": [
        {
          "output_type": "stream",
          "text": [
            "The Point is (1,3)\n",
            "The Point is (3,4)\n",
            "The Point is (0,0)\n",
            "The Point is (4,7)\n"
          ],
          "name": "stdout"
        }
      ]
    },
    {
      "cell_type": "code",
      "metadata": {
        "id": "373ypLCUUmbM",
        "colab_type": "code",
        "colab": {}
      },
      "source": [
        "# Kathryn Webb\n",
        "# 7: Given an excel file named “catering_sale_all.xls”. It stores the sale situation of several\n",
        "# kinds of food on one month. Write a program that could print the total sales volume of the month\n",
        "# by a specific food. The detail requirements are follows.(50’)\n",
        "# (1) when running the program, it will list all the food with a fixed number in the excel (10’)\n",
        "# (2) it notify a user to specific one number (10’)\n",
        "# (3) it print the specific food’s total sales volume of one month (10’)\n",
        "# (4) after print the result, a user could switch to print another food’s sales volume (10’)\n",
        "# (5) when the user select exit, the program exits (10’)\n",
        "\n",
        "import pandas as pd\n",
        "\n",
        "\n",
        "filename = 'catering_sale_all.xls'\n",
        "data = pd.read_excel(filename)\n",
        "nameslist = list(data.columns)\n",
        "print(nameslist)\n",
        "\n",
        "\n",
        "def menu():\n",
        "    option = 1\n",
        "    while option != 0:\n",
        "        print('0: Exit\\n'\n",
        "              '1: Chicken feet\\n'\n",
        "              '2: Steamed Dumplings\\n'\n",
        "              '3: Ribs\\n'\n",
        "              '4: Full Chicken\\n'\n",
        "              '5: Stuffed Bun\\n'\n",
        "              '6: Flowering Cabbage\\n'\n",
        "              '7: Doufu\\n'\n",
        "              '8: Chive Dumplings\\n'\n",
        "              '9: Pudding\\n'\n",
        "              '10: Original Cabbage\\n'\n",
        "              'Select an Option:')\n",
        "        option = int(input())\n",
        "        if option == 0:\n",
        "            break\n",
        "        sum = data[nameslist[option]].sum()\n",
        "        print(sum)\n",
        "        print('The Total sale of {} is {}'.format(nameslist[option], sum))\n",
        "\n",
        "\n",
        "menu()\n"
      ],
      "execution_count": 0,
      "outputs": []
    },
    {
      "cell_type": "code",
      "metadata": {
        "id": "ezqR22opUrkV",
        "colab_type": "code",
        "colab": {}
      },
      "source": [
        "# Kathryn Webb\n",
        "# 8. Given a sql file named “world.sql” which are exported from MySQL by MySQL GUI Tools\n",
        "# (For Mac: MySQL Workbench, For Windows: MySQL Administrator).Write a series of functions\n",
        "# to complete the following tasks. (50’)\n",
        "# (1) import the data into MySQL — this is an operation not program (10’)\n",
        "# (2) write a function to connect to the ”world” schema by using of “pymysql” module (10’)\n",
        "# (3) For the “country” table, write a function to retrieve the average life expectancy of every continent (20’)\n",
        "# (4) print the result (10’)\n",
        "\n",
        "import pandas as pd\n",
        "import pymysql\n",
        "\n",
        "\n",
        "def connect():\n",
        "    db = 'world'\n",
        "    pydb = pymysql.connect(\"localhost\", \"root\", \"Info3020!!!!!\", db)\n",
        "    return pydb\n",
        "\n",
        "\n",
        "def get_data():\n",
        "    sql = \"Select Continent, AVG(LifeExpectancy) as 'Avg Life Expectancy' from Country group by Continent\"\n",
        "    df = pd.read_sql(sql, connect())\n",
        "    print(df)\n",
        "\n",
        "get_data()\n",
        "\n"
      ],
      "execution_count": 0,
      "outputs": []
    },
    {
      "cell_type": "code",
      "metadata": {
        "id": "DaNS2V7yUw7D",
        "colab_type": "code",
        "colab": {}
      },
      "source": [
        "# Kathryn Webb\n",
        "# 9. Using the “world” schema imported in Question 8. For the “country” table,\n",
        "#    write a series of functions to complete the following tasks. (50’)\n",
        "# (1) write a function to connect to the ”world” schema by using of “pymysql” module (10’)\n",
        "# (2) write a function to calculate the total population by every continent (20’)\n",
        "# (3) use pie plot to display the result. (20’)\n",
        "\n",
        "from pylab import *\n",
        "import pandas as pd\n",
        "import pymysql\n",
        "\n",
        "\n",
        "def connect():\n",
        "    db = 'world'\n",
        "    pydb = pymysql.connect(\"localhost\", \"root\", \"Info3020!!!!!\", db)\n",
        "    return pydb\n",
        "\n",
        "\n",
        "def get_data():\n",
        "    sql = \"Select SUM(Population) from Country group by Continent\"\n",
        "    df = pd.read_sql(sql, connect())\n",
        "    mylist = df.values.tolist()\n",
        "    return mylist\n",
        "\n",
        "\n",
        "def get_continents():\n",
        "    sql = \"Select Continent from Country group by Continent\"\n",
        "    df = pd.read_sql(sql, connect())\n",
        "    mylist = df.values.tolist()\n",
        "    return mylist\n",
        "\n",
        "\n",
        "def make_pie_chart():\n",
        "    figure(1, figsize=(6, 6))\n",
        "    x = get_data()\n",
        "    labels = get_continents()\n",
        "    explode = (0.1, 0.1, 0.1, 0.1, 0.1, 0.1, 0)\n",
        "    pie(x, explode=explode, labels=labels, autopct='%1.1f%%', startangle=67)\n",
        "    title(\"Total Population by Continent\")\n",
        "    show()\n",
        "\n",
        "make_pie_chart()"
      ],
      "execution_count": 0,
      "outputs": []
    },
    {
      "cell_type": "code",
      "metadata": {
        "id": "7Epa_EqvU1PF",
        "colab_type": "code",
        "colab": {}
      },
      "source": [
        "# Kathryn Webb\n",
        "# 10. Given a csv file named “energy-production.csv”. It stores energy production of\n",
        "# one area between 1973 and 2014. Write a series of functions to complete the following tasks. (50’)\n",
        "# (1) use “panda” to load the “energy-production.csv” file (10’)\n",
        "# (2) Write a function which accept year (1973-2014) as argument to retrieve the specific\n",
        "#     year’s energy production in detail. (20’)\n",
        "# (3) use bar plot to display the retrieved result. (20’)\n",
        "\n",
        "import pandas as pd\n",
        "import matplotlib.pyplot as plt\n",
        "\n",
        "\n",
        "def loadfile():\n",
        "    filename = 'energy-production.csv'\n",
        "    data = pd.read_csv(filename, index_col=0)\n",
        "    data.set_index(['Year'], inplace=True)\n",
        "    return data\n",
        "\n",
        "\n",
        "def getyeardata():\n",
        "    year = input(\"Choose a year between 1973 and 2014:\")\n",
        "    year = int(year)\n",
        "    mydata = loadfile()\n",
        "    return mydata.loc[year]\n",
        "\n",
        "\n",
        "def make_pie_chart():\n",
        "    figure, ax = plt.subplots(figsize=(12, 12))\n",
        "    x = getyeardata()\n",
        "    info = loadfile()\n",
        "    labels = info.columns.tolist()\n",
        "    explode = (0.1, 0.1, 0.1, 0.1, 0.1, 0.1, 0.1, 0.1, 0.1, 0.1)\n",
        "    ax.pie(x, explode= explode, labels=labels, autopct='%1.1f%%', startangle=0, labeldistance=None)\n",
        "    plt.title(\"Energy Production\")\n",
        "    ax.legend(labels, loc='best', bbox_to_anchor=(1, 1))\n",
        "    plt.tight_layout()\n",
        "    plt.show()\n",
        "\n",
        "\n",
        "make_pie_chart()"
      ],
      "execution_count": 0,
      "outputs": []
    }
  ]
}