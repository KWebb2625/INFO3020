{
  "nbformat": 4,
  "nbformat_minor": 0,
  "metadata": {
    "colab": {
      "name": "Assignment 11-2.ipynb",
      "provenance": [],
      "authorship_tag": "ABX9TyO3yIFj+VoGQy3esr7QdRNc",
      "include_colab_link": true
    },
    "kernelspec": {
      "name": "python3",
      "display_name": "Python 3"
    }
  },
  "cells": [
    {
      "cell_type": "markdown",
      "metadata": {
        "id": "view-in-github",
        "colab_type": "text"
      },
      "source": [
        "<a href=\"https://colab.research.google.com/github/KWebb2625/Kathryn_INFO3020_Spring2020/blob/master/Assignment_11_2.ipynb\" target=\"_parent\"><img src=\"https://colab.research.google.com/assets/colab-badge.svg\" alt=\"Open In Colab\"/></a>"
      ]
    },
    {
      "cell_type": "code",
      "metadata": {
        "id": "OA67TxkcdcjA",
        "colab_type": "code",
        "colab": {}
      },
      "source": [
        "# Kathryn Webb\n",
        "# Use the excel file named  “catering_sale_all.xls”, make a line\n",
        "# chart to display the sales for every day by specific food.\n",
        "\n",
        "import matplotlib.pyplot as plt\n",
        "import pandas as pd\n",
        "\n",
        "filename = 'catering_sale_all.xls'\n",
        "data = pd.read_excel(filename)\n",
        "\n",
        "\n",
        "def make_plt(food):\n",
        "    x = data['sale date']\n",
        "    y = data[food]\n",
        "    plt.plot(x, y)\n",
        "    plt.title(('Sales of {} per day'.format(food)), fontsize=20)\n",
        "    plt.xlabel('Date', fontsize=16)\n",
        "    plt.xticks(x)\n",
        "    plt.ylabel('Amount Sold', fontsize=16)\n",
        "    plt.xticks(rotation=90, fontsize=10)\n",
        "    plt.show()\n",
        "\n",
        "\n",
        "inputfood = input(\"Which food: \")\n",
        "\n",
        "make_plt(inputfood)\n"
      ],
      "execution_count": 0,
      "outputs": []
    },
    {
      "cell_type": "code",
      "metadata": {
        "id": "tPIG-0Gpdh_e",
        "colab_type": "code",
        "colab": {}
      },
      "source": [
        "# Kathryn Webb\n",
        "# In the world database, use the table that stores life expectancy per\n",
        "# country. Use a bar plot to display life expectancy by countries for\n",
        "# one specific continent\n",
        "\n",
        "import matplotlib.pyplot as plt\n",
        "import pandas as pd\n",
        "import pymysql\n",
        "import numpy as np\n",
        "\n",
        "db = 'world'\n",
        "pydb = pymysql.connect(\"localhost\", \"root\", \"Info3020!!!!!\", db)\n",
        "dbcursor = pydb.cursor()\n",
        "\n",
        "\n",
        "def get_data(continent):\n",
        "    sql = \"Select Name, LifeExpectancy from Country where Continent = '{}'\".format(continent)\n",
        "    df = pd.read_sql(sql, pydb)\n",
        "    newdf = df.dropna(axis=0, how='any')\n",
        "    pydb.close()\n",
        "    return newdf\n",
        "\n",
        "\n",
        "def make_plt(df, countryname):\n",
        "    x = df['Name']\n",
        "    y = df['LifeExpectancy']\n",
        "    plt.figure(figsize=(15, 8))\n",
        "    plt.bar(x, y, align='center', width=.4)\n",
        "    plt.title(('Life Expectancy in {} by Country'.format(countryname)), fontsize=20)\n",
        "    plt.xlabel('Country Name', fontsize=16)\n",
        "    plt.ylabel('Age', fontsize=16)\n",
        "    plt.xticks(rotation=90, fontsize=10)\n",
        "    plt.show()\n",
        "\n",
        "\n",
        "chooseCont = input(\"Continent:\")\n",
        "make_plt(get_data(chooseCont),chooseCont)"
      ],
      "execution_count": 0,
      "outputs": []
    }
  ]
}