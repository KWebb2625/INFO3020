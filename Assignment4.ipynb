{
  "nbformat": 4,
  "nbformat_minor": 0,
  "metadata": {
    "colab": {
      "name": "Assignment4.ipynb",
      "provenance": [],
      "authorship_tag": "ABX9TyMicRmLQqSzVFlEE3cm77Uq",
      "include_colab_link": true
    },
    "kernelspec": {
      "name": "python3",
      "display_name": "Python 3"
    }
  },
  "cells": [
    {
      "cell_type": "markdown",
      "metadata": {
        "id": "view-in-github",
        "colab_type": "text"
      },
      "source": [
        "<a href=\"https://colab.research.google.com/github/KWebb2625/Kathryn_INFO3020_Spring2020/blob/master/Assignment4.ipynb\" target=\"_parent\"><img src=\"https://colab.research.google.com/assets/colab-badge.svg\" alt=\"Open In Colab\"/></a>"
      ]
    },
    {
      "cell_type": "code",
      "metadata": {
        "id": "biK3FecNdx3O",
        "colab_type": "code",
        "colab": {
          "base_uri": "https://localhost:8080/",
          "height": 53
        },
        "outputId": "3bbfe5bc-dd78-4a3d-a80c-1e037dbe44d7"
      },
      "source": [
        "# Kathryn Webb\n",
        "# 2/10/2020\n",
        "# 1. Write a function which could return the filename's extend name.\n",
        "# It accepts one argument. If the argument is not a valid filename, \n",
        "# it should return that it is not a valid filename. If multiple \".\"\n",
        "# only print out what is after the last dot. \n",
        "\n",
        "def validateFileName(name):\n",
        "    size = len(name)\n",
        "    count = 0\n",
        "    location = name.find('.')\n",
        "    for char in name:\n",
        "        if char == \".\":\n",
        "            location = name.find('.',count)\n",
        "            count += 1\n",
        "        else:\n",
        "            count += 1\n",
        "    if \".\" not in name:\n",
        "        print(\"Invalid filename.\")\n",
        "    else:\n",
        "        print(name[location+1:size])\n",
        "\n",
        "fileName = input(\"Enter filename:\")\n",
        "validateFileName(fileName)"
      ],
      "execution_count": 108,
      "outputs": [
        {
          "output_type": "stream",
          "text": [
            "Enter filename:file.txtdo\n",
            "txtdo\n"
          ],
          "name": "stdout"
        }
      ]
    },
    {
      "cell_type": "code",
      "metadata": {
        "id": "VtXmWwSfeuPi",
        "colab_type": "code",
        "colab": {
          "base_uri": "https://localhost:8080/",
          "height": 53
        },
        "outputId": "ac03c1a6-6a88-4396-ed8d-0bf32372920a"
      },
      "source": [
        "# Kathryn Webb\n",
        "# 2/10/2020\n",
        "# 2. Write a function that replaces all occurrences of the old character\n",
        "# with a new character in a string s.\n",
        "\n",
        "def replace(s,old,new):\n",
        "    count = 0\n",
        "\n",
        "    for letter in s:\n",
        "        if s[count] == old:\n",
        "            newString = s[0:count] + new + s[(count+1):]\n",
        "            s = newString\n",
        "            count +=1\n",
        "        else:\n",
        "            count +=1\n",
        "    return newString\n",
        "\n",
        "sentence = \"I love spom! Spom is my favorite food. Spom Spom Spom, yum!\"\n",
        "print(replace(sentence,'o','a' ))\n",
        "\n",
        "words = \"Mississippi\"\n",
        "print(replace(words,\"s\",\"S\"))\n",
        "\n"
      ],
      "execution_count": 109,
      "outputs": [
        {
          "output_type": "stream",
          "text": [
            "I lave spam! Spam is my favarite faad. Spam Spam Spam, yum!\n",
            "MiSSiSSippi\n"
          ],
          "name": "stdout"
        }
      ]
    },
    {
      "cell_type": "code",
      "metadata": {
        "id": "ZJYdWQ7P4EDU",
        "colab_type": "code",
        "colab": {}
      },
      "source": [
        "# Kathryn Webb\n",
        "# 2/10/2020\n",
        "# Clip turtle calls a function which makes a size 10 square\n",
        "# then moves down and left 10 and makes a square that is 20 bigger.\n",
        "# This repeats until five squares have been drawn.\n",
        "\n",
        "\n",
        "import turtle\n",
        "\n",
        "def draw_square():\n",
        "    size = 10\n",
        "    square = turtle.Turtle()\n",
        "    square.color(\"hotpink\")\n",
        "    square.pensize(3)\n",
        "    for _ in range(5):\n",
        "        for _ in range(4):\n",
        "            square.forward(size)\n",
        "            square.left(90)\n",
        "        square.penup()\n",
        "        square.right(90)\n",
        "        square.forward(10)\n",
        "        square.right(90)\n",
        "        square.forward(10)\n",
        "        square.right(180)\n",
        "        square.pendown()\n",
        "        size = size + 20\n",
        "\n",
        "window = turtle.Screen()\n",
        "window.bgcolor(\"lightgreen\")\n",
        "\n",
        "draw_square()\n",
        "\n",
        "window.mainloop()\n"
      ],
      "execution_count": 0,
      "outputs": []
    },
    {
      "cell_type": "code",
      "metadata": {
        "id": "qCpfEAPn7LaF",
        "colab_type": "code",
        "colab": {}
      },
      "source": [
        "# Kathryn Webb\n",
        "# 2/10/2020\n",
        "# This function creates a turtle that makes a maze.\n",
        "\n",
        "import turtle\n",
        "\n",
        "def draw_maze():\n",
        "    size = 0\n",
        "    maze = turtle.Turtle()\n",
        "    maze.color(\"blue\")\n",
        "    maze.pensize(3)\n",
        "    for _ in range(48):\n",
        "        for _ in range(2):\n",
        "            maze.right(90)\n",
        "            maze.forward(size + 10)\n",
        "        size += 10\n",
        "\n",
        "window = turtle.Screen()\n",
        "window.bgcolor(\"lightgreen\")\n",
        "\n",
        "draw_maze()\n",
        "\n",
        "window.mainloop()\n"
      ],
      "execution_count": 0,
      "outputs": []
    }
  ]
}
