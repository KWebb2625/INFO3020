{
  "nbformat": 4,
  "nbformat_minor": 0,
  "metadata": {
    "colab": {
      "name": "/Assignment3/Assignment3.ipynb",
      "provenance": [],
      "authorship_tag": "ABX9TyNWDINMY9WTr/Hb6A4JvFdg",
      "include_colab_link": true
    },
    "kernelspec": {
      "name": "python3",
      "display_name": "Python 3"
    }
  },
  "cells": [
    {
      "cell_type": "markdown",
      "metadata": {
        "id": "view-in-github",
        "colab_type": "text"
      },
      "source": [
        "<a href=\"https://colab.research.google.com/github/KWebb2625/Kathryn_INFO3020_Spring2020/blob/master/Assignment3.ipynb\" target=\"_parent\"><img src=\"https://colab.research.google.com/assets/colab-badge.svg\" alt=\"Open In Colab\"/></a>"
      ]
    },
    {
      "cell_type": "markdown",
      "metadata": {
        "id": "KmYU6U1-b5_R",
        "colab_type": "text"
      },
      "source": [
        ""
      ]
    },
    {
      "cell_type": "code",
      "metadata": {
        "id": "iwe5BIfGdo2e",
        "colab_type": "code",
        "colab": {}
      },
      "source": [
        "# Kathryn Webb\n",
        "# 1/29/2020\n",
        "# 1.) Assume the days of the week are numbered 0 through 6 from Sunday to Saturday.\n",
        "# Write a program that asks a day number and prints the name (a string).\n",
        "\n",
        "weekNum = 0\n",
        "while weekNum != 99:\n",
        "    weekNum = int(input(\"What day number?\"))\n",
        "    if weekNum == 0:\n",
        "        print(\"Sunday\")\n",
        "    elif weekNum == 1:\n",
        "        print(\"Monday\")\n",
        "    elif weekNum == 2:\n",
        "        print(\"Tuesday\")\n",
        "    elif weekNum == 3:\n",
        "        print(\"Wednesday\")\n",
        "    elif weekNum == 4:\n",
        "        print(\"Thursday\")\n",
        "    elif weekNum == 5:\n",
        "        print(\"Friday\")\n",
        "    elif weekNum == 6:\n",
        "        print(\"Saturday\")\n",
        "    elif weekNum == 99:\n",
        "        print(\"Exiting program.\")\n",
        "        break\n",
        "    else:\n",
        "        print(\"Invalid choice. Try again\")"
      ],
      "execution_count": 0,
      "outputs": []
    },
    {
      "cell_type": "code",
      "metadata": {
        "id": "4xSXl4-Sdtr3",
        "colab_type": "code",
        "colab": {}
      },
      "source": [
        "# Kathryn Webb\n",
        "# 1/29/2020\n",
        "# 2.) Write a program which, given the length of two sides of a right-angled triangle, returns the\n",
        "# length of the hypotenuse\n",
        "\n",
        "import math\n",
        "\n",
        "sideA = float(input(\"Measurement of side A:\"))\n",
        "sideB = float(input(\"Measurement of side B:\"))\n",
        "\n",
        "hyp = math.sqrt((sideA**2) + (sideB**2))\n",
        "\n",
        "print(\"The hypotenuse is \", hyp)"
      ],
      "execution_count": 0,
      "outputs": []
    },
    {
      "cell_type": "code",
      "metadata": {
        "id": "2S8rGGJDd-gm",
        "colab_type": "code",
        "colab": {}
      },
      "source": [
        "# Kathryn Webb\n",
        "# 1/29/2020\n",
        "# 3.) Write a program which, given the length of three sides of a triangle, will determine whether\n",
        "# the triangle is right- angled. Assume that the third argument to the function is always the\n",
        "# longest side. It will return True if the triangle is right-angled, or False otherwise.\n",
        "\n",
        "\n",
        "sideA = float(input(\"Measurement of side A:\"))\n",
        "sideB = float(input(\"Measurement of side B:\"))\n",
        "hyp = float(input(\"Measurement of the hypotenuse:\"))\n",
        "\n",
        "if (hyp**2) == sideA**2 + sideB**2:\n",
        "    print(\"This is a right triangle.\")\n",
        "else:\n",
        "    print(\"This is not a right triangle.\")"
      ],
      "execution_count": 0,
      "outputs": []
    },
    {
      "cell_type": "code",
      "metadata": {
        "id": "L3bHzoQteECG",
        "colab_type": "code",
        "colab": {}
      },
      "source": [
        "# Kathryn Webb\n",
        "# 1/29/2020\n",
        "# 4.) Write a program that uses a for loop to print(January to December)\n",
        "# One of the months of the year is January\n",
        "# One of the months of the year is February ...\n",
        "\n",
        "for i in (\"January\", \"February\", \"March\", \"April\", \"May\", \"June\", \"July\", \"August\", \"September\", \"October\", \"November\", \"December\"):\n",
        "    print(\"One of the months of the year is\", i)"
      ],
      "execution_count": 0,
      "outputs": []
    },
    {
      "cell_type": "code",
      "metadata": {
        "id": "lhmOtDSTeKLc",
        "colab_type": "code",
        "colab": {}
      },
      "source": [
        "# Kathryn Webb\n",
        "# 1/29/2020\n",
        "# 5.) Assume you have the assignment numbers = [12, 10, 32, 3, 66, 17, 42, 99, 20]\n",
        "# (a) Write a loop that adds all the numbers from the list into a variable called total. You\n",
        "# should set the total variable to have the value 0 before you start adding them up, and print the\n",
        "# value in total after the loop has completed.\n",
        "# (b)  Print the product of all the numbers in the list. (product means all multiplied together)\n",
        "\n",
        "total = 0\n",
        "\n",
        "for num in [12, 10, 32, 3, 66, 17, 42, 99, 20]:\n",
        "    total += num\n",
        "\n",
        "print(\"The total is \", total)\n",
        "\n",
        "total = 1\n",
        "for num in [12, 10, 32, 3, 66, 17, 42, 99, 20]:\n",
        "    total *= num\n",
        "print(\"The product is \", total)"
      ],
      "execution_count": 0,
      "outputs": []
    },
    {
      "cell_type": "code",
      "metadata": {
        "id": "qGgFnkuBeQuP",
        "colab_type": "code",
        "colab": {}
      },
      "source": [
        "# Kathryn Webb\n",
        "# 1/29/2020\n",
        "# 6.) This program creates two turtles.\n",
        "# One turtle makes an equilateral triangle.\n",
        "# The other turtle makes a hexagon.\n",
        "\n",
        "import turtle\n",
        "\n",
        "window = turtle.Screen()\n",
        "window.bgcolor(\"LightBlue\")\n",
        "window.title(\"Turtles!\")\n",
        "\n",
        "alex = turtle.Turtle()\n",
        "alex.pencolor(\"White\")\n",
        "\n",
        "bob = turtle.Turtle()\n",
        "\n",
        "for _ in range(3):\n",
        "    alex.forward(50)\n",
        "    alex.left(120)\n",
        "\n",
        "for _ in range(6):\n",
        "    bob.forward(50)\n",
        "    bob.left(60)\n",
        "\n",
        "window.mainloop()"
      ],
      "execution_count": 0,
      "outputs": []
    },
    {
      "cell_type": "code",
      "metadata": {
        "id": "FqC3vcgmeWAc",
        "colab_type": "code",
        "colab": {}
      },
      "source": [
        "# Kathryn Webb\n",
        "# 1/29/2020\n",
        "# 7.) A drunk pirate makes a random turn and then takes 100 steps forward, makes another\n",
        "# random turn, takes another 100 steps, turns another random amount, etc. A social science\n",
        "# student records the angle of each turn before the next 100 steps are taken. Her experimental\n",
        "# data is [160, -43, 270, -97, -43, 200, -940, 17, -86]. (Positive angles are counter-clockwise.) Use a\n",
        "# turtle to draw the path taken by our drunk friend.\n",
        "\n",
        "import turtle\n",
        "\n",
        "window = turtle.Screen()\n",
        "window.bgcolor(\"DarkBlue\")\n",
        "window.title(\"Drunk Pirate Turtles!\")\n",
        "\n",
        "pirate = turtle.Turtle()\n",
        "pirate.pencolor(\"White\")\n",
        "pirate.color(\"White\")\n",
        "pirate.pensize(7)\n",
        "pirate.shape(\"turtle\")\n",
        "\n",
        "for i in (160, -43, 270, -97, -43, 200, -940, 17, -86):\n",
        "    pirate.forward(100)\n",
        "    pirate.left(i)\n",
        "\n",
        "window.mainloop()"
      ],
      "execution_count": 0,
      "outputs": []
    },
    {
      "cell_type": "code",
      "metadata": {
        "id": "ewK1lWHCcNuv",
        "colab_type": "code",
        "colab": {}
      },
      "source": [
        "# Kathryn Webb\n",
        "# 1/29/2020\n",
        "# 8.) Write a program that counts the number of even digits in the scope of 1-1000\n",
        "\n",
        "totalCount = 0\n",
        "for num in range(1, 1000):\n",
        "    if num%2 == 0:\n",
        "        totalCount += 1\n",
        "\n",
        "print(\"There are\", totalCount, \"even numbers between 1 and 1000\")"
      ],
      "execution_count": 0,
      "outputs": []
    }
  ]
}